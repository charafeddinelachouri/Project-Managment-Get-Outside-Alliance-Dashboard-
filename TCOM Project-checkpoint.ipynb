{
 "cells": [
  {
   "cell_type": "code",
   "execution_count": 10,
   "id": "cb75b5f7",
   "metadata": {},
   "outputs": [
    {
     "ename": "SyntaxError",
     "evalue": "invalid syntax (1168097673.py, line 14)",
     "output_type": "error",
     "traceback": [
      "\u001b[1;36m  Cell \u001b[1;32mIn[10], line 14\u001b[1;36m\u001b[0m\n\u001b[1;33m    os.chdir(C:\\Users\\h219442\\OneDrive-Halliburton\\Desktop\\MSDA\\2023\\SPRING 2023\\TCOM 5340 Project Managment\\Project\\TCOM Project)\u001b[0m\n\u001b[1;37m              ^\u001b[0m\n\u001b[1;31mSyntaxError\u001b[0m\u001b[1;31m:\u001b[0m invalid syntax\n"
     ]
    }
   ],
   "source": [
    "# BACKGROUND: \n",
    " \n",
    "# dataset: http://api.census.gov/data/2021/acs/acs1/subject\n",
    "# dataset schema: https://api.census.gov/data/2021/acs/acs1/subject/variables.html\n",
    " \n",
    "# # # attributes we want and their var name in the schema description\n",
    "# total pop: S0101_C01_001E\n",
    "# 15-19: S0101_C01_005E  \n",
    "# > 18yo: S0101_C01_026E\n",
    "# median age: S0101_C01_032E\n",
    "\n",
    "import os\n",
    "os.getcwd()\n",
    "os.chdir(C:\\\\Users\\\\h219442\\OneDrive-Halliburton\\\\Desktop\\\\MSDA\\\\2023\\\\SPRING 2023\\\\TCOM 5340 Project Managment\\\\Project\\\\TCOM Project)\n",
    "\n",
    "# import libs \n",
    "import requests\n",
    "import pandas as pd\n",
    "\n",
    "# import parks data and the county its in \n",
    "parks = pd.read_csv('parks1.csv')\n",
    "parks = parks[parks['Park'].notna()]\n",
    "parks['County'] = parks['County'].str.replace(' County', '').str.upper()\n",
    " \n",
    "# this works county data \n",
    "response = requests.get('http://api.census.gov/data/2021/acs/acs1/subject?get=NAME,S0101_C01_001E,S0101_C01_026E&for=county:*&in=state:48&key=0923d8ea2ca411114390b1f6da3b6ed97afb330d')\n",
    " \n",
    "# this works for city \n",
    "#response = requests.get('http://api.census.gov/data/2021/acs/acs1/subject?get=NAME,S0101_C01_001E,S0101_C01_005E,S0101_C01_026E,S0101_C01_032E&for=place:*&in=state:48&key=0923d8ea2ca411114390b1f6da3b6ed97afb330d')\n",
    " \n",
    "# convert from json i think \n",
    "data = response.json()\n",
    " \n",
    "# Convert the list of lists to a DataFrame\n",
    "df = pd.DataFrame(data[1:], columns=data[0])\n",
    " \n",
    "# Print the DataFrame\n",
    "df = df.rename(columns = {'S0101_C01_001E':'total_pop','S0101_C01_005E':'15_to_19','S0101_C01_026E':'over_18','S0101_C01_032E':'median_age'})\n",
    " \n",
    "# axe ' County, Texas' from county\n",
    "df['NAME'] = df['NAME'].str.replace(' County, Texas','').str.upper()\n",
    " \n",
    "# join parks data to census data \n",
    "df_parks_census = df.merge(parks, left_on = 'NAME', right_on = 'County', how = 'left')\n",
    " \n",
    "# drop stuff \n",
    "df_parks_census.drop(['Census link','County','state','county'], axis=1, inplace=True)\n",
    "\n"
   ]
  },
  {
   "cell_type": "code",
   "execution_count": 16,
   "id": "51c878e2",
   "metadata": {},
   "outputs": [
    {
     "ename": "SyntaxError",
     "evalue": "invalid syntax (4940890.py, line 3)",
     "output_type": "error",
     "traceback": [
      "\u001b[1;36m  Cell \u001b[1;32mIn[16], line 3\u001b[1;36m\u001b[0m\n\u001b[1;33m    os.chdir(C:\\\\Users\\\\h219442\\\\OneDriveHalliburton\\\\Desktop\\\\MSDA\\\\2023\\\\SPRING 2023\\\\TCOM 5340 Project Managment\\\\Project)\u001b[0m\n\u001b[1;37m              ^\u001b[0m\n\u001b[1;31mSyntaxError\u001b[0m\u001b[1;31m:\u001b[0m invalid syntax\n"
     ]
    }
   ],
   "source": [
    "import os\n",
    "\n",
    "os.chdir(C:\\\\Users\\\\h219442\\\\OneDrive - Halliburton\\\\Desktop\\\\MSDA\\\\2023\\\\SPRING 2023\\\\TCOM 5340 Project Managment\\\\Project)\n"
   ]
  }
 ],
 "metadata": {
  "kernelspec": {
   "display_name": "Python 3 (ipykernel)",
   "language": "python",
   "name": "python3"
  },
  "language_info": {
   "codemirror_mode": {
    "name": "ipython",
    "version": 3
   },
   "file_extension": ".py",
   "mimetype": "text/x-python",
   "name": "python",
   "nbconvert_exporter": "python",
   "pygments_lexer": "ipython3",
   "version": "3.11.3"
  }
 },
 "nbformat": 4,
 "nbformat_minor": 5
}
